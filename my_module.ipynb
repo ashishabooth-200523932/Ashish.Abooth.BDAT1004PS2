{
 "cells": [
  {
   "cell_type": "code",
   "execution_count": null,
   "id": "1948da11",
   "metadata": {},
   "outputs": [],
   "source": [
    "a=0\n",
    "\n",
    "def b():\n",
    "    global a\n",
    "    a=c(a)\n",
    "    \n",
    "def c(a):\n",
    "    return a+2\n",
    "print (a)"
   ]
  },
  {
   "cell_type": "markdown",
   "id": "e71dcded",
   "metadata": {},
   "source": [
    "/*HERE IN THIS QUESTION, WHEN EXUCUTING b(), it shows no value, because it is only declared but not given any value. so funtion b() is an empty function */\n",
    "\n",
    "my_module - file is also there where the output is given. (see screenshot attached in the word file)."
   ]
  },
  {
   "cell_type": "code",
   "execution_count": null,
   "id": "336c1718",
   "metadata": {},
   "outputs": [],
   "source": [
    "/* Ending of Solution No. 1 above */"
   ]
  },
  {
   "cell_type": "markdown",
   "id": "e22d2e73",
   "metadata": {},
   "source": [
    "SOLUTION NO. 2 :-"
   ]
  },
  {
   "cell_type": "code",
   "execution_count": null,
   "id": "947af001",
   "metadata": {},
   "outputs": [],
   "source": [
    "import os\n",
    "\n",
    "def file_length(\"F:\\myFile.txt.txt\"):\n",
    "        \n",
    "file = os.path.getsize(\"F:\\myFile.txt.txt\")\n",
    "\n",
    "    contents = file.read()\n",
    "    \n",
    "    file.close()\n",
    "    \n",
    "    print(len(contents))"
   ]
  },
  {
   "cell_type": "markdown",
   "id": "27f68277",
   "metadata": {},
   "source": [
    "SOLUTION NO. 3 :-"
   ]
  },
  {
   "cell_type": "code",
   "execution_count": null,
   "id": "feecf815",
   "metadata": {},
   "outputs": [],
   "source": [
    "class Marsupial:\n",
    "    \n",
    "    def __init__(m, put_in_pouch):\n",
    "        m.put = pouch_contents(['doll', 'firetruck', 'kitten'])\n",
    "        m.put = name\n",
    "    def query(self):\n",
    "        return('m=Marsupial'\n",
    "              m.put_in_pouch('doll')\n",
    "              m.put_in_pouch('firetruck')\n",
    "              m.put_in_pouch('kitten')\n",
    "    \n",
    "class kangaroo():\n",
    "    \n",
    "    def __init__(x,y):\n",
    "        x.y = random.choice()\n",
    "        jump().__str__(name)\n",
    "    # Call the parent's query method and add new behavior\n",
    "    def query(self):\n",
    "        return jump().query() + (\"I am a kangaroo located at coordinates (x,y)\")\n",
    "\n",
    "print(jump().query())"
   ]
  },
  {
   "cell_type": "markdown",
   "id": "edf6fe25",
   "metadata": {},
   "source": [
    "SOLUTION NO. 4 :-"
   ]
  },
  {
   "cell_type": "code",
   "execution_count": null,
   "id": "85f39be7",
   "metadata": {},
   "outputs": [],
   "source": [
    "def Collatz(n):\n",
    "     \n",
    "    while x != 1:\n",
    "        print(x, end = ' ')\n",
    " \n",
    "        # If x is odd\n",
    "        if x & 1:\n",
    "            x = 3 * x + 1\n",
    " \n",
    "        # If even\n",
    "        else:\n",
    "            x = x // 2\n",
    " \n",
    "    # Print 1 at the end\n",
    "    print(x)\n",
    " \n",
    "print Collatz(n)"
   ]
  },
  {
   "cell_type": "markdown",
   "id": "f952f789",
   "metadata": {},
   "source": [
    "SOLUTION NO. 5 :-"
   ]
  },
  {
   "cell_type": "code",
   "execution_count": null,
   "id": "93956a70",
   "metadata": {},
   "outputs": [],
   "source": [
    "def binary(n):\n",
    "\n",
    "    if n==0:\n",
    "return (0)\n",
    "elif n == 1:\n",
    "return (1)\n",
    "else:\n",
    "return \n",
    "binary(n//2)+binary(n%2) #recursive call\n",
    "\n",
    "print(binary(0))\n",
    "print(binary(1))\n",
    "print(binary(14))"
   ]
  },
  {
   "cell_type": "markdown",
   "id": "ebf9ebb3",
   "metadata": {},
   "source": [
    "SOLUTION NO. 7 :-"
   ]
  },
  {
   "cell_type": "code",
   "execution_count": null,
   "id": "9cc10e11",
   "metadata": {},
   "outputs": [],
   "source": [
    "from bs4 \n",
    "import BeautifulSoup\n",
    "import requests\n",
    "\n",
    "urls=[]            # to get urls in here...\n",
    "\n",
    "def getsite(site):\n",
    "    r = requests.get(site)   # getting the request from url..\n",
    "    \n",
    "    s = BeautifulSoup(r.text, \"html.parser\")    #In order to convert..\n",
    "    \n",
    "    for i in s.find_all(\"a\"):   \n",
    "        href = i.attrs['href']\n",
    "           \n",
    "        if href.startswith(\"/\"):  # to check wheather the website is selected..\n",
    "            site = site+href\n",
    "               \n",
    "            if site not in  urls:\n",
    "                urls.append(site) \n",
    "                print(site)\n",
    "                                         # calling it self  \n",
    "                getsite(site)            #recursive funtion\n",
    "                onclick()                # function to execute on click\n",
    "   \n",
    "if __name__ ==\"__main__\":\n",
    "   \n",
    "    # website as input\n",
    "    site=\"http://example.recursivewebsite.com//\"\n",
    "   \n",
    "    # calling function\n",
    "    scrape(site)"
   ]
  },
  {
   "cell_type": "markdown",
   "id": "8c104793",
   "metadata": {},
   "source": [
    "SOLUTION NO. 8 :-"
   ]
  },
  {
   "cell_type": "code",
   "execution_count": null,
   "id": "49867de6",
   "metadata": {},
   "outputs": [],
   "source": [
    "(a.) Select Temperature(C) \n",
    "     From Table_name;                #Table Name is not given\n",
    "    \n",
    "(b.) Select Distinct City \n",
    "     From Table_name;\n",
    "    \n",
    "(c.) Select * From Table_name \n",
    "     WHERE Country='India';\n",
    "        \n",
    "(d.) Select * From table_name\n",
    "     WHERE Season='FALL';\n",
    "\n",
    "(e.) SELECT City, Country, Season\n",
    "     FROM table_name\n",
    "     WHERE Rainfall BETWEEN 200 AND 400;\n",
    "\n",
    "(e.) Select City, Country\n",
    "\n",
    "     WHERE Rainfall BETWEEN 200 AND 400;\n",
    "    \n",
    "(f.) Select City, Country\n",
    "     From table_Name\n",
    "     WHERE AVG(Temperature) > 20\n",
    "     ORDER BY Temperature ASC;\n",
    "    \n",
    "(e.) Select SUM(Rainfall)\n",
    "     From Table_name\n",
    "     WHERE City='Cairo';\n",
    "        \n",
    "(f.) Select SUM(Rainfall)\n",
    "     From Table_name\n",
    "     GROUP BY Season;"
   ]
  }
 ],
 "metadata": {
  "kernelspec": {
   "display_name": "Python 3 (ipykernel)",
   "language": "python",
   "name": "python3"
  },
  "language_info": {
   "codemirror_mode": {
    "name": "ipython",
    "version": 3
   },
   "file_extension": ".py",
   "mimetype": "text/x-python",
   "name": "python",
   "nbconvert_exporter": "python",
   "pygments_lexer": "ipython3",
   "version": "3.9.12"
  }
 },
 "nbformat": 4,
 "nbformat_minor": 5
}
